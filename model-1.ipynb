{
 "cells": [
  {
   "cell_type": "code",
   "execution_count": 1,
   "metadata": {
    "_cell_guid": "79c7e3d0-c299-4dcb-8224-4455121ee9b0",
    "_uuid": "d629ff2d2480ee46fbb7e2d37f6b5fab8052498a",
    "execution": {
     "iopub.execute_input": "2020-10-29T10:33:26.333627Z",
     "iopub.status.busy": "2020-10-29T10:33:26.332973Z",
     "iopub.status.idle": "2020-10-29T10:33:32.554681Z",
     "shell.execute_reply": "2020-10-29T10:33:32.553550Z"
    },
    "papermill": {
     "duration": 6.252079,
     "end_time": "2020-10-29T10:33:32.554816",
     "exception": false,
     "start_time": "2020-10-29T10:33:26.302737",
     "status": "completed"
    },
    "tags": []
   },
   "outputs": [],
   "source": [
    "#importing all the required lib\n",
    "import pandas as pd\n",
    "import numpy as np \n",
    "import os\n",
    "from keras.preprocessing import sequence\n",
    "import math\n",
    "import matplotlib.pyplot as plt\n",
    "from sklearn.feature_extraction.text import TfidfVectorizer,CountVectorizer\n",
    "from sklearn.model_selection import train_test_split\n",
    "from keras.preprocessing.text import Tokenizer\n",
    "from keras.preprocessing.sequence import pad_sequences\n",
    "from keras.layers import SpatialDropout1D, LSTM, BatchNormalization,concatenate,Flatten,Embedding,Dense,Dropout,MaxPooling2D,Reshape,LSTM\n",
    "from keras.models import Sequential\n",
    "from keras import Model,Input\n",
    "from keras.layers.convolutional import Conv2D,Conv1D\n",
    "import keras.backend as k\n",
    "from sklearn.metrics import roc_auc_score\n",
    "import tensorflow as tf\n",
    "import keras\n",
    "from numpy import zeros\n",
    "from sklearn.utils import compute_class_weight\n",
    "from keras.initializers import he_normal,glorot_normal\n",
    "from keras.regularizers import l1,l2\n",
    "from tensorflow.python.keras.callbacks import TensorBoard\n",
    "from IPython.display import SVG, display\n",
    "import pickle \n",
    "import warnings\n",
    "from tqdm.auto import tqdm\n",
    "warnings.filterwarnings(\"ignore\")"
   ]
  },
  {
   "cell_type": "code",
   "execution_count": 2,
   "metadata": {
    "execution": {
     "iopub.execute_input": "2020-10-29T10:33:32.600040Z",
     "iopub.status.busy": "2020-10-29T10:33:32.599425Z",
     "iopub.status.idle": "2020-10-29T10:33:34.119360Z",
     "shell.execute_reply": "2020-10-29T10:33:34.118780Z"
    },
    "papermill": {
     "duration": 1.545253,
     "end_time": "2020-10-29T10:33:34.119519",
     "exception": false,
     "start_time": "2020-10-29T10:33:32.574266",
     "status": "completed"
    },
    "tags": []
   },
   "outputs": [
    {
     "data": {
      "text/html": [
       "<div>\n",
       "<style scoped>\n",
       "    .dataframe tbody tr th:only-of-type {\n",
       "        vertical-align: middle;\n",
       "    }\n",
       "\n",
       "    .dataframe tbody tr th {\n",
       "        vertical-align: top;\n",
       "    }\n",
       "\n",
       "    .dataframe thead th {\n",
       "        text-align: right;\n",
       "    }\n",
       "</style>\n",
       "<table border=\"1\" class=\"dataframe\">\n",
       "  <thead>\n",
       "    <tr style=\"text-align: right;\">\n",
       "      <th></th>\n",
       "      <th>school_state</th>\n",
       "      <th>teacher_prefix</th>\n",
       "      <th>project_grade_category</th>\n",
       "      <th>teacher_number_of_previously_posted_projects</th>\n",
       "      <th>project_is_approved</th>\n",
       "      <th>clean_categories</th>\n",
       "      <th>clean_subcategories</th>\n",
       "      <th>essay</th>\n",
       "      <th>price</th>\n",
       "    </tr>\n",
       "  </thead>\n",
       "  <tbody>\n",
       "    <tr>\n",
       "      <th>0</th>\n",
       "      <td>ca</td>\n",
       "      <td>mrs</td>\n",
       "      <td>grades_prek_2</td>\n",
       "      <td>53</td>\n",
       "      <td>1</td>\n",
       "      <td>math_science</td>\n",
       "      <td>appliedsciences health_lifescience</td>\n",
       "      <td>i fortunate enough use fairy tale stem kits cl...</td>\n",
       "      <td>725.05</td>\n",
       "    </tr>\n",
       "    <tr>\n",
       "      <th>1</th>\n",
       "      <td>ut</td>\n",
       "      <td>ms</td>\n",
       "      <td>grades_3_5</td>\n",
       "      <td>4</td>\n",
       "      <td>1</td>\n",
       "      <td>specialneeds</td>\n",
       "      <td>specialneeds</td>\n",
       "      <td>imagine 8 9 years old you third grade classroo...</td>\n",
       "      <td>213.03</td>\n",
       "    </tr>\n",
       "    <tr>\n",
       "      <th>2</th>\n",
       "      <td>ca</td>\n",
       "      <td>mrs</td>\n",
       "      <td>grades_prek_2</td>\n",
       "      <td>10</td>\n",
       "      <td>1</td>\n",
       "      <td>literacy_language</td>\n",
       "      <td>literacy</td>\n",
       "      <td>having class 24 students comes diverse learner...</td>\n",
       "      <td>329.00</td>\n",
       "    </tr>\n",
       "  </tbody>\n",
       "</table>\n",
       "</div>"
      ],
      "text/plain": [
       "  school_state teacher_prefix project_grade_category  \\\n",
       "0           ca            mrs          grades_prek_2   \n",
       "1           ut             ms             grades_3_5   \n",
       "2           ca            mrs          grades_prek_2   \n",
       "\n",
       "   teacher_number_of_previously_posted_projects  project_is_approved  \\\n",
       "0                                            53                    1   \n",
       "1                                             4                    1   \n",
       "2                                            10                    1   \n",
       "\n",
       "    clean_categories                 clean_subcategories  \\\n",
       "0       math_science  appliedsciences health_lifescience   \n",
       "1       specialneeds                        specialneeds   \n",
       "2  literacy_language                            literacy   \n",
       "\n",
       "                                               essay   price  \n",
       "0  i fortunate enough use fairy tale stem kits cl...  725.05  \n",
       "1  imagine 8 9 years old you third grade classroo...  213.03  \n",
       "2  having class 24 students comes diverse learner...  329.00  "
      ]
     },
     "execution_count": 2,
     "metadata": {},
     "output_type": "execute_result"
    }
   ],
   "source": [
    "#reading the data\n",
    "data=pd.read_csv('/kaggle/input/donor-data/preprocessed_donor_data.csv')\n",
    "data.head(3)"
   ]
  },
  {
   "cell_type": "code",
   "execution_count": 3,
   "metadata": {
    "execution": {
     "iopub.execute_input": "2020-10-29T10:33:34.167795Z",
     "iopub.status.busy": "2020-10-29T10:33:34.167190Z",
     "iopub.status.idle": "2020-10-29T10:33:34.179222Z",
     "shell.execute_reply": "2020-10-29T10:33:34.178670Z"
    },
    "papermill": {
     "duration": 0.036371,
     "end_time": "2020-10-29T10:33:34.179349",
     "exception": false,
     "start_time": "2020-10-29T10:33:34.142978",
     "status": "completed"
    },
    "tags": []
   },
   "outputs": [],
   "source": [
    "X = data.drop(['project_is_approved'], axis=1)\n",
    "Y = data['project_is_approved'].values"
   ]
  },
  {
   "cell_type": "code",
   "execution_count": 4,
   "metadata": {
    "execution": {
     "iopub.execute_input": "2020-10-29T10:33:34.224099Z",
     "iopub.status.busy": "2020-10-29T10:33:34.223304Z",
     "iopub.status.idle": "2020-10-29T10:33:34.326365Z",
     "shell.execute_reply": "2020-10-29T10:33:34.325755Z"
    },
    "papermill": {
     "duration": 0.12779,
     "end_time": "2020-10-29T10:33:34.326476",
     "exception": false,
     "start_time": "2020-10-29T10:33:34.198686",
     "status": "completed"
    },
    "tags": []
   },
   "outputs": [
    {
     "name": "stdout",
     "output_type": "stream",
     "text": [
      "(81936, 8) (81936,)\n",
      "(27312, 8) (27312,)\n"
     ]
    }
   ],
   "source": [
    "#split data into train , test, cv \n",
    "from sklearn.model_selection import train_test_split\n",
    "X_train, X_test, Y_train, Y_test = train_test_split(X, Y, test_size=0.25, stratify=Y)\n",
    "\n",
    "print(X_train.shape,Y_train.shape)\n",
    "print(X_test.shape,Y_test.shape)"
   ]
  },
  {
   "cell_type": "code",
   "execution_count": 5,
   "metadata": {
    "execution": {
     "iopub.execute_input": "2020-10-29T10:33:34.392308Z",
     "iopub.status.busy": "2020-10-29T10:33:34.381981Z",
     "iopub.status.idle": "2020-10-29T10:33:58.623219Z",
     "shell.execute_reply": "2020-10-29T10:33:58.622135Z"
    },
    "papermill": {
     "duration": 24.276392,
     "end_time": "2020-10-29T10:33:58.623368",
     "exception": false,
     "start_time": "2020-10-29T10:33:34.346976",
     "status": "completed"
    },
    "tags": []
   },
   "outputs": [],
   "source": [
    "from keras.preprocessing.text import Tokenizer\n",
    "tokenizer = Tokenizer(num_words= 100000 )\n",
    "tokenizer.fit_on_texts(X_train[\"essay\"])\n",
    "\n",
    "X_train['essay_tok']  = tokenizer.texts_to_sequences(X_train['essay'].values)\n",
    "X_test['essay_tok']   = tokenizer.texts_to_sequences(X_test['essay'].values)"
   ]
  },
  {
   "cell_type": "code",
   "execution_count": 6,
   "metadata": {
    "execution": {
     "iopub.execute_input": "2020-10-29T10:33:58.689520Z",
     "iopub.status.busy": "2020-10-29T10:33:58.687694Z",
     "iopub.status.idle": "2020-10-29T10:34:02.459357Z",
     "shell.execute_reply": "2020-10-29T10:34:02.458738Z"
    },
    "papermill": {
     "duration": 3.815606,
     "end_time": "2020-10-29T10:34:02.459473",
     "exception": false,
     "start_time": "2020-10-29T10:33:58.643867",
     "status": "completed"
    },
    "tags": []
   },
   "outputs": [],
   "source": [
    "from keras.preprocessing import sequence\n",
    "max_review_length = 300\n",
    "X_train_pad = sequence.pad_sequences(X_train['essay_tok'].values, maxlen=max_review_length , padding='post')\n",
    "X_test_pad  = sequence.pad_sequences(X_test['essay_tok'].values, maxlen=max_review_length , padding='post')"
   ]
  },
  {
   "cell_type": "code",
   "execution_count": 7,
   "metadata": {
    "execution": {
     "iopub.execute_input": "2020-10-29T10:34:02.504501Z",
     "iopub.status.busy": "2020-10-29T10:34:02.503822Z",
     "iopub.status.idle": "2020-10-29T10:34:15.309580Z",
     "shell.execute_reply": "2020-10-29T10:34:15.308967Z"
    },
    "papermill": {
     "duration": 12.829697,
     "end_time": "2020-10-29T10:34:15.309703",
     "exception": false,
     "start_time": "2020-10-29T10:34:02.480006",
     "status": "completed"
    },
    "tags": []
   },
   "outputs": [],
   "source": [
    "dbfile = open('../input/pickled-glove840b300d-for-10sec-loading/glove.840B.300d.pkl', 'rb')      \n",
    "db = pickle.load(dbfile)"
   ]
  },
  {
   "cell_type": "code",
   "execution_count": 8,
   "metadata": {
    "execution": {
     "iopub.execute_input": "2020-10-29T10:34:15.781705Z",
     "iopub.status.busy": "2020-10-29T10:34:15.780787Z",
     "iopub.status.idle": "2020-10-29T10:34:15.785828Z",
     "shell.execute_reply": "2020-10-29T10:34:15.786877Z"
    },
    "papermill": {
     "duration": 0.456347,
     "end_time": "2020-10-29T10:34:15.787054",
     "exception": false,
     "start_time": "2020-10-29T10:34:15.330707",
     "status": "completed"
    },
    "tags": []
   },
   "outputs": [],
   "source": [
    "glove_words =  set(db.keys())"
   ]
  },
  {
   "cell_type": "code",
   "execution_count": 9,
   "metadata": {
    "execution": {
     "iopub.execute_input": "2020-10-29T10:34:15.859260Z",
     "iopub.status.busy": "2020-10-29T10:34:15.858318Z",
     "iopub.status.idle": "2020-10-29T10:34:16.244683Z",
     "shell.execute_reply": "2020-10-29T10:34:16.245696Z"
    },
    "papermill": {
     "duration": 0.426447,
     "end_time": "2020-10-29T10:34:16.245861",
     "exception": false,
     "start_time": "2020-10-29T10:34:15.819414",
     "status": "completed"
    },
    "tags": []
   },
   "outputs": [
    {
     "data": {
      "application/vnd.jupyter.widget-view+json": {
       "model_id": "8e15c565be864cc7bcd6641818e68a7e",
       "version_major": 2,
       "version_minor": 0
      },
      "text/plain": [
       "HBox(children=(FloatProgress(value=0.0, max=50419.0), HTML(value='')))"
      ]
     },
     "metadata": {},
     "output_type": "display_data"
    },
    {
     "name": "stdout",
     "output_type": "stream",
     "text": [
      "\n"
     ]
    }
   ],
   "source": [
    "from numpy import zeros\n",
    "max_vocabulary = len(tokenizer.word_index)\n",
    "# create a weight matrix for words in training docs\n",
    "embedding_matrix = zeros((max_vocabulary+1, 300))\n",
    "for word, i in tqdm(tokenizer.word_index.items()):\n",
    "    if word in glove_words:\n",
    "        embedding_vector = db[word]\n",
    "        embedding_matrix[i] = embedding_vector"
   ]
  },
  {
   "cell_type": "markdown",
   "metadata": {
    "papermill": {
     "duration": 0.021113,
     "end_time": "2020-10-29T10:34:16.293209",
     "exception": false,
     "start_time": "2020-10-29T10:34:16.272096",
     "status": "completed"
    },
    "tags": []
   },
   "source": [
    "# School State"
   ]
  },
  {
   "cell_type": "code",
   "execution_count": 10,
   "metadata": {
    "execution": {
     "iopub.execute_input": "2020-10-29T10:34:16.586772Z",
     "iopub.status.busy": "2020-10-29T10:34:16.585845Z",
     "iopub.status.idle": "2020-10-29T10:34:16.672495Z",
     "shell.execute_reply": "2020-10-29T10:34:16.671736Z"
    },
    "papermill": {
     "duration": 0.352287,
     "end_time": "2020-10-29T10:34:16.672658",
     "exception": false,
     "start_time": "2020-10-29T10:34:16.320371",
     "status": "completed"
    },
    "tags": []
   },
   "outputs": [
    {
     "name": "stdout",
     "output_type": "stream",
     "text": [
      "Number of unique school state=  51\n",
      "Embedding size =  26\n"
     ]
    }
   ],
   "source": [
    "from sklearn.preprocessing import LabelEncoder\n",
    "labele = LabelEncoder()\n",
    "labele.fit(X['school_state'].values)\n",
    "\n",
    "\n",
    "X_train_school_state = labele.transform(X_train['school_state'].values)\n",
    "\n",
    "X_test_school_state = labele.transform(X_test['school_state'].values)\n",
    "\n",
    "\n",
    "no_of_unique_states = X_train['school_state'].nunique()\n",
    "print(\"Number of unique school state= \",no_of_unique_states)\n",
    "\n",
    "embedding_size_school_state = min(np.ceil((no_of_unique_states)/2), 50 )\n",
    "embedding_size_school_state = int(embedding_size_school_state)\n",
    "print('Embedding size = ',embedding_size_school_state)"
   ]
  },
  {
   "cell_type": "markdown",
   "metadata": {
    "papermill": {
     "duration": 0.023351,
     "end_time": "2020-10-29T10:34:16.720951",
     "exception": false,
     "start_time": "2020-10-29T10:34:16.697600",
     "status": "completed"
    },
    "tags": []
   },
   "source": [
    "# Teacher Prefix"
   ]
  },
  {
   "cell_type": "code",
   "execution_count": 11,
   "metadata": {
    "execution": {
     "iopub.execute_input": "2020-10-29T10:34:16.814090Z",
     "iopub.status.busy": "2020-10-29T10:34:16.777250Z",
     "iopub.status.idle": "2020-10-29T10:34:16.820800Z",
     "shell.execute_reply": "2020-10-29T10:34:16.821621Z"
    },
    "papermill": {
     "duration": 0.078221,
     "end_time": "2020-10-29T10:34:16.821797",
     "exception": false,
     "start_time": "2020-10-29T10:34:16.743576",
     "status": "completed"
    },
    "tags": []
   },
   "outputs": [
    {
     "name": "stdout",
     "output_type": "stream",
     "text": [
      "Number of unique teacher_prefix=  5\n",
      "Embedding size =  3\n"
     ]
    }
   ],
   "source": [
    "labele = LabelEncoder()\n",
    "labele.fit(X['teacher_prefix'].values)\n",
    "\n",
    "X_train_teacher_prefix = labele.transform(X_train['teacher_prefix'].values)\n",
    "\n",
    "X_test_teacher_prefix = labele.transform(X_test['teacher_prefix'].values)\n",
    "\n",
    "\n",
    "no_of_unique_teacher_prefix = X_train['teacher_prefix'].nunique()\n",
    "print(\"Number of unique teacher_prefix= \",no_of_unique_teacher_prefix)\n",
    "\n",
    "embedding_size_teacher_prefix = min(np.ceil((no_of_unique_teacher_prefix)/2), 50 )\n",
    "embedding_size_teacher_prefix = int(embedding_size_teacher_prefix)\n",
    "print('Embedding size = ',embedding_size_teacher_prefix)"
   ]
  },
  {
   "cell_type": "markdown",
   "metadata": {
    "papermill": {
     "duration": 0.023381,
     "end_time": "2020-10-29T10:34:16.868539",
     "exception": false,
     "start_time": "2020-10-29T10:34:16.845158",
     "status": "completed"
    },
    "tags": []
   },
   "source": [
    "# Clean Categories"
   ]
  },
  {
   "cell_type": "code",
   "execution_count": 12,
   "metadata": {
    "execution": {
     "iopub.execute_input": "2020-10-29T10:34:16.971513Z",
     "iopub.status.busy": "2020-10-29T10:34:16.970669Z",
     "iopub.status.idle": "2020-10-29T10:34:16.980033Z",
     "shell.execute_reply": "2020-10-29T10:34:16.979560Z"
    },
    "papermill": {
     "duration": 0.086969,
     "end_time": "2020-10-29T10:34:16.980132",
     "exception": false,
     "start_time": "2020-10-29T10:34:16.893163",
     "status": "completed"
    },
    "tags": []
   },
   "outputs": [
    {
     "name": "stdout",
     "output_type": "stream",
     "text": [
      "Number of unique clean_categories=  51\n",
      "Embedding size =  26\n"
     ]
    }
   ],
   "source": [
    "labele = LabelEncoder()\n",
    "labele.fit(X['clean_categories'].values)\n",
    "\n",
    "\n",
    "X_train_clean_categories = labele.transform(X_train['clean_categories'].values)\n",
    "\n",
    "X_test_clean_categories = labele.transform(X_test['clean_categories'].values)\n",
    "\n",
    "no_of_unique_clean_categories = X_train['clean_categories'].nunique()\n",
    "print(\"Number of unique clean_categories= \",no_of_unique_clean_categories)\n",
    "\n",
    "embedding_size_clean_categories = min(np.ceil((no_of_unique_clean_categories)/2), 50 )\n",
    "embedding_size_clean_categories = int(embedding_size_clean_categories)\n",
    "print('Embedding size = ',embedding_size_clean_categories)\n"
   ]
  },
  {
   "cell_type": "markdown",
   "metadata": {
    "papermill": {
     "duration": 0.023033,
     "end_time": "2020-10-29T10:34:17.026055",
     "exception": false,
     "start_time": "2020-10-29T10:34:17.003022",
     "status": "completed"
    },
    "tags": []
   },
   "source": [
    "# Clean Subcategories"
   ]
  },
  {
   "cell_type": "code",
   "execution_count": 13,
   "metadata": {
    "execution": {
     "iopub.execute_input": "2020-10-29T10:34:17.120512Z",
     "iopub.status.busy": "2020-10-29T10:34:17.088223Z",
     "iopub.status.idle": "2020-10-29T10:34:17.128568Z",
     "shell.execute_reply": "2020-10-29T10:34:17.129213Z"
    },
    "papermill": {
     "duration": 0.080519,
     "end_time": "2020-10-29T10:34:17.129397",
     "exception": false,
     "start_time": "2020-10-29T10:34:17.048878",
     "status": "completed"
    },
    "tags": []
   },
   "outputs": [
    {
     "name": "stdout",
     "output_type": "stream",
     "text": [
      "Number of unique clean_subcategories=  391\n",
      "Embedding size =  50\n"
     ]
    }
   ],
   "source": [
    "labele = LabelEncoder()\n",
    "labele.fit(X['clean_subcategories'].values)\n",
    "\n",
    "\n",
    "X_train_clean_subcategories = labele.transform(X_train['clean_subcategories'].values)\n",
    "\n",
    "X_test_clean_subcategories = labele.transform(X_test['clean_subcategories'].values)\n",
    "\n",
    "no_of_unique_clean_subcategories = X_train['clean_subcategories'].nunique()\n",
    "print(\"Number of unique clean_subcategories= \",no_of_unique_clean_subcategories)\n",
    "\n",
    "\n",
    "embedding_size_clean_subcategories = min(np.ceil((no_of_unique_clean_subcategories)/2), 50 )\n",
    "embedding_size_clean_subcategories = int(embedding_size_clean_subcategories)\n",
    "print('Embedding size = ',embedding_size_clean_subcategories)"
   ]
  },
  {
   "cell_type": "markdown",
   "metadata": {
    "papermill": {
     "duration": 0.023324,
     "end_time": "2020-10-29T10:34:17.176555",
     "exception": false,
     "start_time": "2020-10-29T10:34:17.153231",
     "status": "completed"
    },
    "tags": []
   },
   "source": [
    "# Project Grade Category"
   ]
  },
  {
   "cell_type": "code",
   "execution_count": 14,
   "metadata": {
    "execution": {
     "iopub.execute_input": "2020-10-29T10:34:17.273120Z",
     "iopub.status.busy": "2020-10-29T10:34:17.272275Z",
     "iopub.status.idle": "2020-10-29T10:34:17.280347Z",
     "shell.execute_reply": "2020-10-29T10:34:17.281063Z"
    },
    "papermill": {
     "duration": 0.080874,
     "end_time": "2020-10-29T10:34:17.281235",
     "exception": false,
     "start_time": "2020-10-29T10:34:17.200361",
     "status": "completed"
    },
    "tags": []
   },
   "outputs": [
    {
     "name": "stdout",
     "output_type": "stream",
     "text": [
      "Number of unique project_grade_category=  4\n",
      "Embedding size =  2\n"
     ]
    }
   ],
   "source": [
    "labele = LabelEncoder()\n",
    "labele.fit(X['project_grade_category'].values)\n",
    "\n",
    "\n",
    "X_train_project_grade_category = labele.transform(X_train['project_grade_category'].values)\n",
    "\n",
    "X_test_project_grade_category = labele.transform(X_test['project_grade_category'].values)\n",
    "\n",
    "no_of_unique_project_grade_category = X_train['project_grade_category'].nunique()\n",
    "print(\"Number of unique project_grade_category= \",no_of_unique_project_grade_category)\n",
    "\n",
    "embedding_size_project_grade_category = min(np.ceil((no_of_unique_project_grade_category)/2), 50 )\n",
    "embedding_size_project_grade_category = int(embedding_size_project_grade_category)\n",
    "print('Embedding size = ',embedding_size_project_grade_category)"
   ]
  },
  {
   "cell_type": "code",
   "execution_count": 15,
   "metadata": {
    "execution": {
     "iopub.execute_input": "2020-10-29T10:34:17.340566Z",
     "iopub.status.busy": "2020-10-29T10:34:17.339452Z",
     "iopub.status.idle": "2020-10-29T10:34:17.345433Z",
     "shell.execute_reply": "2020-10-29T10:34:17.345927Z"
    },
    "papermill": {
     "duration": 0.038551,
     "end_time": "2020-10-29T10:34:17.346059",
     "exception": false,
     "start_time": "2020-10-29T10:34:17.307508",
     "status": "completed"
    },
    "tags": []
   },
   "outputs": [],
   "source": [
    "from sklearn.preprocessing import StandardScaler\n",
    "scaler=StandardScaler()\n",
    "scaler.fit(X_train['teacher_number_of_previously_posted_projects'].values.reshape(-1,1))\n",
    "\n",
    "\n",
    "X_train_num_projects=scaler.transform(X_train['teacher_number_of_previously_posted_projects'].values.reshape(-1,1))\n",
    "\n",
    "X_test_num_projects=scaler.transform(X_test['teacher_number_of_previously_posted_projects'].values.reshape(-1,1))"
   ]
  },
  {
   "cell_type": "code",
   "execution_count": 16,
   "metadata": {
    "execution": {
     "iopub.execute_input": "2020-10-29T10:34:17.401167Z",
     "iopub.status.busy": "2020-10-29T10:34:17.400593Z",
     "iopub.status.idle": "2020-10-29T10:34:17.405907Z",
     "shell.execute_reply": "2020-10-29T10:34:17.406602Z"
    },
    "papermill": {
     "duration": 0.035763,
     "end_time": "2020-10-29T10:34:17.406742",
     "exception": false,
     "start_time": "2020-10-29T10:34:17.370979",
     "status": "completed"
    },
    "tags": []
   },
   "outputs": [],
   "source": [
    "scaler.fit(X_train['price'].values.reshape(-1,1))\n",
    "\n",
    "X_train_price = scaler.transform(X_train['price'].values.reshape(-1,1))\n",
    "\n",
    "X_test_price = scaler.transform(X_test['price'].values.reshape(-1,1))"
   ]
  },
  {
   "cell_type": "code",
   "execution_count": 17,
   "metadata": {
    "execution": {
     "iopub.execute_input": "2020-10-29T10:34:17.459840Z",
     "iopub.status.busy": "2020-10-29T10:34:17.459234Z",
     "iopub.status.idle": "2020-10-29T10:34:17.465648Z",
     "shell.execute_reply": "2020-10-29T10:34:17.466296Z"
    },
    "papermill": {
     "duration": 0.035402,
     "end_time": "2020-10-29T10:34:17.466436",
     "exception": false,
     "start_time": "2020-10-29T10:34:17.431034",
     "status": "completed"
    },
    "tags": []
   },
   "outputs": [
    {
     "name": "stdout",
     "output_type": "stream",
     "text": [
      "(81936, 2) (27312, 2)\n"
     ]
    }
   ],
   "source": [
    "X_train_numeric_features = np.concatenate((X_train_num_projects , X_train_price) , axis = 1)\n",
    "\n",
    "X_test_numeric_features= np.concatenate((X_test_num_projects , X_test_price) , axis = 1)\n",
    "\n",
    "print(X_train_numeric_features.shape ,X_test_numeric_features.shape)"
   ]
  },
  {
   "cell_type": "code",
   "execution_count": 18,
   "metadata": {
    "execution": {
     "iopub.execute_input": "2020-10-29T10:34:17.521825Z",
     "iopub.status.busy": "2020-10-29T10:34:17.521198Z",
     "iopub.status.idle": "2020-10-29T10:34:17.525700Z",
     "shell.execute_reply": "2020-10-29T10:34:17.525147Z"
    },
    "papermill": {
     "duration": 0.034265,
     "end_time": "2020-10-29T10:34:17.525794",
     "exception": false,
     "start_time": "2020-10-29T10:34:17.491529",
     "status": "completed"
    },
    "tags": []
   },
   "outputs": [],
   "source": [
    "def auc1(y_true, y_pred):\n",
    "    if len(np.unique(y_true[:,1])) == 1:\n",
    "        return 0.5\n",
    "    else:\n",
    "        return roc_auc_score(y_true, y_pred)\n",
    "\n",
    "def auroc(y_true, y_pred):\n",
    "    return tf.py_function(auc1, (y_true, y_pred), tf.double)"
   ]
  },
  {
   "cell_type": "code",
   "execution_count": 19,
   "metadata": {
    "execution": {
     "iopub.execute_input": "2020-10-29T10:34:17.580231Z",
     "iopub.status.busy": "2020-10-29T10:34:17.579061Z",
     "iopub.status.idle": "2020-10-29T10:34:17.585244Z",
     "shell.execute_reply": "2020-10-29T10:34:17.584351Z"
    },
    "papermill": {
     "duration": 0.034846,
     "end_time": "2020-10-29T10:34:17.585365",
     "exception": false,
     "start_time": "2020-10-29T10:34:17.550519",
     "status": "completed"
    },
    "tags": []
   },
   "outputs": [],
   "source": [
    "from keras.utils import np_utils\n",
    "\n",
    "y_train = np_utils.to_categorical(Y_train, 2) \n",
    "y_test = np_utils.to_categorical(Y_test, 2)"
   ]
  },
  {
   "cell_type": "code",
   "execution_count": 20,
   "metadata": {
    "execution": {
     "iopub.execute_input": "2020-10-29T10:34:17.644829Z",
     "iopub.status.busy": "2020-10-29T10:34:17.643071Z",
     "iopub.status.idle": "2020-10-29T10:34:17.645493Z",
     "shell.execute_reply": "2020-10-29T10:34:17.645941Z"
    },
    "papermill": {
     "duration": 0.035209,
     "end_time": "2020-10-29T10:34:17.646059",
     "exception": false,
     "start_time": "2020-10-29T10:34:17.610850",
     "status": "completed"
    },
    "tags": []
   },
   "outputs": [],
   "source": [
    "from keras.models import Model\n",
    "from keras.layers import Input\n",
    "from keras.layers import LSTM\n",
    "from keras.layers.embeddings import Embedding\n",
    "from keras import regularizers\n",
    "from keras.regularizers import l2\n",
    "from keras.layers import Flatten\n",
    "from keras.layers import Dense, Input , Dropout\n",
    "from keras.layers import concatenate\n",
    "from keras.layers.normalization import BatchNormalization\n",
    "from keras.callbacks import TensorBoard"
   ]
  },
  {
   "cell_type": "code",
   "execution_count": 21,
   "metadata": {
    "execution": {
     "iopub.execute_input": "2020-10-29T10:34:17.865666Z",
     "iopub.status.busy": "2020-10-29T10:34:17.859544Z",
     "iopub.status.idle": "2020-10-29T10:34:21.388816Z",
     "shell.execute_reply": "2020-10-29T10:34:21.387791Z"
    },
    "papermill": {
     "duration": 3.717067,
     "end_time": "2020-10-29T10:34:21.388986",
     "exception": false,
     "start_time": "2020-10-29T10:34:17.671919",
     "status": "completed"
    },
    "tags": []
   },
   "outputs": [
    {
     "name": "stdout",
     "output_type": "stream",
     "text": [
      "Model: \"functional_1\"\n",
      "__________________________________________________________________________________________________\n",
      "Layer (type)                    Output Shape         Param #     Connected to                     \n",
      "==================================================================================================\n",
      "essay_input (InputLayer)        [(None, 300)]        0                                            \n",
      "__________________________________________________________________________________________________\n",
      "embedding (Embedding)           (None, 300, 300)     15126000    essay_input[0][0]                \n",
      "__________________________________________________________________________________________________\n",
      "school_state (InputLayer)       [(None, 1)]          0                                            \n",
      "__________________________________________________________________________________________________\n",
      "teacher_prefix (InputLayer)     [(None, 1)]          0                                            \n",
      "__________________________________________________________________________________________________\n",
      "clean_categories (InputLayer)   [(None, 1)]          0                                            \n",
      "__________________________________________________________________________________________________\n",
      "clean_subcategories (InputLayer [(None, 1)]          0                                            \n",
      "__________________________________________________________________________________________________\n",
      "project_grade_category (InputLa [(None, 1)]          0                                            \n",
      "__________________________________________________________________________________________________\n",
      "lstm (LSTM)                     (None, 300, 100)     160400      embedding[0][0]                  \n",
      "__________________________________________________________________________________________________\n",
      "embedding_1 (Embedding)         (None, 1, 26)        1326        school_state[0][0]               \n",
      "__________________________________________________________________________________________________\n",
      "embedding_2 (Embedding)         (None, 1, 3)         15          teacher_prefix[0][0]             \n",
      "__________________________________________________________________________________________________\n",
      "embedding_3 (Embedding)         (None, 1, 26)        1326        clean_categories[0][0]           \n",
      "__________________________________________________________________________________________________\n",
      "embedding_4 (Embedding)         (None, 1, 50)        25000       clean_subcategories[0][0]        \n",
      "__________________________________________________________________________________________________\n",
      "embedding_5 (Embedding)         (None, 1, 2)         8           project_grade_category[0][0]     \n",
      "__________________________________________________________________________________________________\n",
      "numerical_features (InputLayer) [(None, 2)]          0                                            \n",
      "__________________________________________________________________________________________________\n",
      "flatten (Flatten)               (None, 30000)        0           lstm[0][0]                       \n",
      "__________________________________________________________________________________________________\n",
      "flatten_1 (Flatten)             (None, 26)           0           embedding_1[0][0]                \n",
      "__________________________________________________________________________________________________\n",
      "flatten_2 (Flatten)             (None, 3)            0           embedding_2[0][0]                \n",
      "__________________________________________________________________________________________________\n",
      "flatten_3 (Flatten)             (None, 26)           0           embedding_3[0][0]                \n",
      "__________________________________________________________________________________________________\n",
      "flatten_4 (Flatten)             (None, 50)           0           embedding_4[0][0]                \n",
      "__________________________________________________________________________________________________\n",
      "flatten_5 (Flatten)             (None, 2)            0           embedding_5[0][0]                \n",
      "__________________________________________________________________________________________________\n",
      "dense (Dense)                   (None, 128)          384         numerical_features[0][0]         \n",
      "__________________________________________________________________________________________________\n",
      "concatenate (Concatenate)       (None, 30235)        0           flatten[0][0]                    \n",
      "                                                                 flatten_1[0][0]                  \n",
      "                                                                 flatten_2[0][0]                  \n",
      "                                                                 flatten_3[0][0]                  \n",
      "                                                                 flatten_4[0][0]                  \n",
      "                                                                 flatten_5[0][0]                  \n",
      "                                                                 dense[0][0]                      \n",
      "__________________________________________________________________________________________________\n",
      "dense_1 (Dense)                 (None, 300)          9070800     concatenate[0][0]                \n",
      "__________________________________________________________________________________________________\n",
      "dropout (Dropout)               (None, 300)          0           dense_1[0][0]                    \n",
      "__________________________________________________________________________________________________\n",
      "dense_2 (Dense)                 (None, 200)          60200       dropout[0][0]                    \n",
      "__________________________________________________________________________________________________\n",
      "batch_normalization (BatchNorma (None, 200)          800         dense_2[0][0]                    \n",
      "__________________________________________________________________________________________________\n",
      "dropout_1 (Dropout)             (None, 200)          0           batch_normalization[0][0]        \n",
      "__________________________________________________________________________________________________\n",
      "dense_3 (Dense)                 (None, 80)           16080       dropout_1[0][0]                  \n",
      "__________________________________________________________________________________________________\n",
      "output (Dense)                  (None, 2)            162         dense_3[0][0]                    \n",
      "==================================================================================================\n",
      "Total params: 24,462,501\n",
      "Trainable params: 24,462,101\n",
      "Non-trainable params: 400\n",
      "__________________________________________________________________________________________________\n",
      "None\n"
     ]
    }
   ],
   "source": [
    "tf.keras.backend.clear_session()\n",
    "\n",
    "Input_1 = Input(shape=(300,), name='essay_input')\n",
    "\n",
    "X = Embedding(output_dim=300, input_dim=max_vocabulary+1, input_length=300 , weights=[embedding_matrix])(Input_1)\n",
    "lstm_essay = LSTM(100,recurrent_dropout=0.5,kernel_regularizer=regularizers.l2(0.001),return_sequences=True)(X)\n",
    "flatten_1 = Flatten()(lstm_essay)\n",
    "\n",
    "\n",
    "\n",
    "Input_2 = Input(shape=(1,), name='school_state')\n",
    "X_school_state = Embedding(output_dim=embedding_size_school_state , input_dim=no_of_unique_states, input_length=1)(Input_2)\n",
    "flatten_2 = Flatten()(X_school_state)\n",
    "\n",
    "\n",
    "\n",
    "Input_3 = Input(shape=(1,), name='teacher_prefix')\n",
    "X_teacher_prefix = Embedding(output_dim=embedding_size_teacher_prefix , input_dim=no_of_unique_teacher_prefix, input_length=1)(Input_3)\n",
    "flatten_3 = Flatten()(X_teacher_prefix)\n",
    "\n",
    "\n",
    "\n",
    "Input_4 = Input(shape=(1,), name='clean_categories')\n",
    "X_clean_categories = Embedding(output_dim=embedding_size_clean_categories, input_dim=no_of_unique_clean_categories, input_length=1)(Input_4)\n",
    "flatten_4 = Flatten()(X_clean_categories)\n",
    "\n",
    "\n",
    "\n",
    "Input_5 = Input(shape=(1,), name='clean_subcategories')\n",
    "X_clean_subcategories = Embedding(output_dim=embedding_size_clean_subcategories, input_dim=500, input_length=1)(Input_5)\n",
    "flatten_5 = Flatten()(X_clean_subcategories)\n",
    "\n",
    "\n",
    "\n",
    "\n",
    "Input_6 = Input(shape=(1,), name='project_grade_category')\n",
    "X_project_grade_category = Embedding(output_dim=embedding_size_project_grade_category, input_dim=no_of_unique_project_grade_category, input_length=1)(Input_6)\n",
    "flatten_6 = Flatten()(X_project_grade_category)\n",
    "\n",
    "\n",
    "Input_7 = Input(shape=(2,) , name=\"numerical_features\")\n",
    "numeric_dense = Dense(128, activation='relu' , kernel_initializer='he_normal',kernel_regularizer=l2(0.001))(Input_7)\n",
    "\n",
    "\n",
    "X_concat = concatenate([flatten_1 , flatten_2 , flatten_3 ,flatten_4 , flatten_5 , flatten_6 , numeric_dense])\n",
    "model = Dense(300, activation=\"relu\", kernel_initializer=\"he_normal\" ,kernel_regularizer=regularizers.l2(0.001))(X_concat)\n",
    "\n",
    "model = Dropout(0.5)(model)\n",
    "\n",
    "model = Dense(200,activation=\"relu\",kernel_initializer=\"glorot_normal\" ,kernel_regularizer=regularizers.l2(0.001))(model)\n",
    "\n",
    "model = BatchNormalization()(model)\n",
    "\n",
    "model = Dropout(0.5)(model)\n",
    "\n",
    "model = Dense(80,activation=\"relu\", kernel_initializer=\"glorot_normal\" ,kernel_regularizer=regularizers.l2(0.001))(model)\n",
    "\n",
    "\n",
    "output = Dense(2, activation='softmax', name='output')(model)\n",
    "\n",
    "model_1 = Model(inputs=[Input_1,Input_2,Input_3,Input_4,Input_5,Input_6,Input_7],outputs=[output])\n",
    "\n",
    "\n",
    "\n",
    "print(model_1.summary())"
   ]
  },
  {
   "cell_type": "code",
   "execution_count": 22,
   "metadata": {
    "execution": {
     "iopub.execute_input": "2020-10-29T10:34:21.638975Z",
     "iopub.status.busy": "2020-10-29T10:34:21.638244Z",
     "iopub.status.idle": "2020-10-29T10:34:21.643091Z",
     "shell.execute_reply": "2020-10-29T10:34:21.642107Z"
    },
    "papermill": {
     "duration": 0.226939,
     "end_time": "2020-10-29T10:34:21.643210",
     "exception": false,
     "start_time": "2020-10-29T10:34:21.416271",
     "status": "completed"
    },
    "tags": []
   },
   "outputs": [],
   "source": [
    "\n",
    "from keras.callbacks import ModelCheckpoint,TensorBoard,ReduceLROnPlateau, EarlyStopping\n",
    "checkpoint1 = ModelCheckpoint(\"model_1.h5\",\n",
    "                             monitor=\"val_auroc\",\n",
    "                             mode=\"max\",\n",
    "                             save_best_only = True,\n",
    "                             verbose=1)\n",
    "earlystop1 = EarlyStopping(monitor = 'val_auroc', \n",
    "                            mode=\"max\",\n",
    "                            min_delta = 0, \n",
    "                            patience = 2,\n",
    "                            verbose = 1)\n",
    "\n",
    "tensorboard1 = TensorBoard(log_dir='Model1_visualization')\n",
    "\n",
    "callbacks_1 = [checkpoint1,earlystop1,tensorboard1]"
   ]
  },
  {
   "cell_type": "code",
   "execution_count": 23,
   "metadata": {
    "execution": {
     "iopub.execute_input": "2020-10-29T10:34:21.701039Z",
     "iopub.status.busy": "2020-10-29T10:34:21.700459Z",
     "iopub.status.idle": "2020-10-29T10:34:21.704710Z",
     "shell.execute_reply": "2020-10-29T10:34:21.704120Z"
    },
    "papermill": {
     "duration": 0.034859,
     "end_time": "2020-10-29T10:34:21.704813",
     "exception": false,
     "start_time": "2020-10-29T10:34:21.669954",
     "status": "completed"
    },
    "tags": []
   },
   "outputs": [],
   "source": [
    "\n",
    "x_train = [X_train_pad,X_train_school_state,X_train_teacher_prefix,X_train_clean_categories,X_train_clean_subcategories,X_train_project_grade_category,X_train_numeric_features]\n",
    "\n",
    "x_test = [X_test_pad,X_test_school_state,X_test_teacher_prefix,X_test_clean_categories,X_test_clean_subcategories,X_test_project_grade_category,X_test_numeric_features]"
   ]
  },
  {
   "cell_type": "code",
   "execution_count": 24,
   "metadata": {
    "execution": {
     "iopub.execute_input": "2020-10-29T10:34:21.769655Z",
     "iopub.status.busy": "2020-10-29T10:34:21.768733Z",
     "iopub.status.idle": "2020-10-29T10:49:35.210106Z",
     "shell.execute_reply": "2020-10-29T10:49:35.209589Z"
    },
    "papermill": {
     "duration": 913.479205,
     "end_time": "2020-10-29T10:49:35.210244",
     "exception": false,
     "start_time": "2020-10-29T10:34:21.731039",
     "status": "completed"
    },
    "tags": []
   },
   "outputs": [
    {
     "name": "stdout",
     "output_type": "stream",
     "text": [
      "Epoch 1/10\n",
      "161/161 [==============================] - ETA: 0s - loss: 1.4234 - auroc: 0.6361\n",
      "Epoch 00001: val_auroc improved from -inf to 0.65560, saving model to model_1.h5\n",
      "161/161 [==============================] - 231s 1s/step - loss: 1.4234 - auroc: 0.6361 - val_loss: 0.9899 - val_auroc: 0.6556\n",
      "Epoch 2/10\n",
      "161/161 [==============================] - ETA: 0s - loss: 0.8604 - auroc: 0.7198\n",
      "Epoch 00002: val_auroc improved from 0.65560 to 0.75232, saving model to model_1.h5\n",
      "161/161 [==============================] - 226s 1s/step - loss: 0.8604 - auroc: 0.7198 - val_loss: 0.7446 - val_auroc: 0.7523\n",
      "Epoch 3/10\n",
      "161/161 [==============================] - ETA: 0s - loss: 0.6749 - auroc: 0.7572\n",
      "Epoch 00003: val_auroc did not improve from 0.75232\n",
      "161/161 [==============================] - 223s 1s/step - loss: 0.6749 - auroc: 0.7572 - val_loss: 0.6333 - val_auroc: 0.7439\n",
      "Epoch 4/10\n",
      "161/161 [==============================] - ETA: 0s - loss: 0.5812 - auroc: 0.7863\n",
      "Epoch 00004: val_auroc did not improve from 0.75232\n",
      "161/161 [==============================] - 222s 1s/step - loss: 0.5812 - auroc: 0.7863 - val_loss: 0.6184 - val_auroc: 0.7522\n",
      "Epoch 00004: early stopping\n"
     ]
    }
   ],
   "source": [
    "model_1.compile(optimizer='adam', loss='categorical_crossentropy', metrics=[auroc])\n",
    "history = model_1.fit(x_train, y_train, batch_size=512, epochs=10, verbose=1,callbacks=callbacks_1, validation_data=(x_test, y_test))"
   ]
  },
  {
   "cell_type": "code",
   "execution_count": 25,
   "metadata": {
    "execution": {
     "iopub.execute_input": "2020-10-29T10:49:35.705370Z",
     "iopub.status.busy": "2020-10-29T10:49:35.704080Z",
     "iopub.status.idle": "2020-10-29T10:50:45.855308Z",
     "shell.execute_reply": "2020-10-29T10:50:45.856031Z"
    },
    "papermill": {
     "duration": 70.401717,
     "end_time": "2020-10-29T10:50:45.856194",
     "exception": false,
     "start_time": "2020-10-29T10:49:35.454477",
     "status": "completed"
    },
    "tags": []
   },
   "outputs": [
    {
     "name": "stdout",
     "output_type": "stream",
     "text": [
      "Test AUC: 0.7513793251155567\n"
     ]
    }
   ],
   "source": [
    "y_test_pred = model_1.predict(x_test)\n",
    "print(\"Test AUC:\",roc_auc_score(y_test,y_test_pred))"
   ]
  }
 ],
 "metadata": {
  "kernelspec": {
   "display_name": "Python 3",
   "language": "python",
   "name": "python3"
  },
  "language_info": {
   "codemirror_mode": {
    "name": "ipython",
    "version": 3
   },
   "file_extension": ".py",
   "mimetype": "text/x-python",
   "name": "python",
   "nbconvert_exporter": "python",
   "pygments_lexer": "ipython3",
   "version": "3.7.6"
  },
  "papermill": {
   "duration": 1046.197547,
   "end_time": "2020-10-29T10:50:48.229945",
   "environment_variables": {},
   "exception": null,
   "input_path": "__notebook__.ipynb",
   "output_path": "__notebook__.ipynb",
   "parameters": {},
   "start_time": "2020-10-29T10:33:22.032398",
   "version": "2.1.0"
  },
  "widgets": {
   "application/vnd.jupyter.widget-state+json": {
    "state": {
     "02bb9550290d40d6aed8bf2c6a2757e7": {
      "model_module": "@jupyter-widgets/controls",
      "model_module_version": "1.5.0",
      "model_name": "HTMLModel",
      "state": {
       "_dom_classes": [],
       "_model_module": "@jupyter-widgets/controls",
       "_model_module_version": "1.5.0",
       "_model_name": "HTMLModel",
       "_view_count": null,
       "_view_module": "@jupyter-widgets/controls",
       "_view_module_version": "1.5.0",
       "_view_name": "HTMLView",
       "description": "",
       "description_tooltip": null,
       "layout": "IPY_MODEL_24323a77284549ed821559d82e4dadee",
       "placeholder": "​",
       "style": "IPY_MODEL_a9cfbb718c694ddfb251a4a922a5221b",
       "value": " 50419/50419 [00:00&lt;00:00, 69507.52it/s]"
      }
     },
     "09fac3211f764968964fb493f2e5a610": {
      "model_module": "@jupyter-widgets/base",
      "model_module_version": "1.2.0",
      "model_name": "LayoutModel",
      "state": {
       "_model_module": "@jupyter-widgets/base",
       "_model_module_version": "1.2.0",
       "_model_name": "LayoutModel",
       "_view_count": null,
       "_view_module": "@jupyter-widgets/base",
       "_view_module_version": "1.2.0",
       "_view_name": "LayoutView",
       "align_content": null,
       "align_items": null,
       "align_self": null,
       "border": null,
       "bottom": null,
       "display": null,
       "flex": null,
       "flex_flow": null,
       "grid_area": null,
       "grid_auto_columns": null,
       "grid_auto_flow": null,
       "grid_auto_rows": null,
       "grid_column": null,
       "grid_gap": null,
       "grid_row": null,
       "grid_template_areas": null,
       "grid_template_columns": null,
       "grid_template_rows": null,
       "height": null,
       "justify_content": null,
       "justify_items": null,
       "left": null,
       "margin": null,
       "max_height": null,
       "max_width": null,
       "min_height": null,
       "min_width": null,
       "object_fit": null,
       "object_position": null,
       "order": null,
       "overflow": null,
       "overflow_x": null,
       "overflow_y": null,
       "padding": null,
       "right": null,
       "top": null,
       "visibility": null,
       "width": null
      }
     },
     "24323a77284549ed821559d82e4dadee": {
      "model_module": "@jupyter-widgets/base",
      "model_module_version": "1.2.0",
      "model_name": "LayoutModel",
      "state": {
       "_model_module": "@jupyter-widgets/base",
       "_model_module_version": "1.2.0",
       "_model_name": "LayoutModel",
       "_view_count": null,
       "_view_module": "@jupyter-widgets/base",
       "_view_module_version": "1.2.0",
       "_view_name": "LayoutView",
       "align_content": null,
       "align_items": null,
       "align_self": null,
       "border": null,
       "bottom": null,
       "display": null,
       "flex": null,
       "flex_flow": null,
       "grid_area": null,
       "grid_auto_columns": null,
       "grid_auto_flow": null,
       "grid_auto_rows": null,
       "grid_column": null,
       "grid_gap": null,
       "grid_row": null,
       "grid_template_areas": null,
       "grid_template_columns": null,
       "grid_template_rows": null,
       "height": null,
       "justify_content": null,
       "justify_items": null,
       "left": null,
       "margin": null,
       "max_height": null,
       "max_width": null,
       "min_height": null,
       "min_width": null,
       "object_fit": null,
       "object_position": null,
       "order": null,
       "overflow": null,
       "overflow_x": null,
       "overflow_y": null,
       "padding": null,
       "right": null,
       "top": null,
       "visibility": null,
       "width": null
      }
     },
     "53b3296aafa9421d9dd8a30046b55cd8": {
      "model_module": "@jupyter-widgets/controls",
      "model_module_version": "1.5.0",
      "model_name": "ProgressStyleModel",
      "state": {
       "_model_module": "@jupyter-widgets/controls",
       "_model_module_version": "1.5.0",
       "_model_name": "ProgressStyleModel",
       "_view_count": null,
       "_view_module": "@jupyter-widgets/base",
       "_view_module_version": "1.2.0",
       "_view_name": "StyleView",
       "bar_color": null,
       "description_width": "initial"
      }
     },
     "8e15c565be864cc7bcd6641818e68a7e": {
      "model_module": "@jupyter-widgets/controls",
      "model_module_version": "1.5.0",
      "model_name": "HBoxModel",
      "state": {
       "_dom_classes": [],
       "_model_module": "@jupyter-widgets/controls",
       "_model_module_version": "1.5.0",
       "_model_name": "HBoxModel",
       "_view_count": null,
       "_view_module": "@jupyter-widgets/controls",
       "_view_module_version": "1.5.0",
       "_view_name": "HBoxView",
       "box_style": "",
       "children": [
        "IPY_MODEL_c64c2f27f11445c7971cf6611af5dc9b",
        "IPY_MODEL_02bb9550290d40d6aed8bf2c6a2757e7"
       ],
       "layout": "IPY_MODEL_09fac3211f764968964fb493f2e5a610"
      }
     },
     "a9cfbb718c694ddfb251a4a922a5221b": {
      "model_module": "@jupyter-widgets/controls",
      "model_module_version": "1.5.0",
      "model_name": "DescriptionStyleModel",
      "state": {
       "_model_module": "@jupyter-widgets/controls",
       "_model_module_version": "1.5.0",
       "_model_name": "DescriptionStyleModel",
       "_view_count": null,
       "_view_module": "@jupyter-widgets/base",
       "_view_module_version": "1.2.0",
       "_view_name": "StyleView",
       "description_width": ""
      }
     },
     "c2d3b706e9d343e08a19847ec40e5635": {
      "model_module": "@jupyter-widgets/base",
      "model_module_version": "1.2.0",
      "model_name": "LayoutModel",
      "state": {
       "_model_module": "@jupyter-widgets/base",
       "_model_module_version": "1.2.0",
       "_model_name": "LayoutModel",
       "_view_count": null,
       "_view_module": "@jupyter-widgets/base",
       "_view_module_version": "1.2.0",
       "_view_name": "LayoutView",
       "align_content": null,
       "align_items": null,
       "align_self": null,
       "border": null,
       "bottom": null,
       "display": null,
       "flex": null,
       "flex_flow": null,
       "grid_area": null,
       "grid_auto_columns": null,
       "grid_auto_flow": null,
       "grid_auto_rows": null,
       "grid_column": null,
       "grid_gap": null,
       "grid_row": null,
       "grid_template_areas": null,
       "grid_template_columns": null,
       "grid_template_rows": null,
       "height": null,
       "justify_content": null,
       "justify_items": null,
       "left": null,
       "margin": null,
       "max_height": null,
       "max_width": null,
       "min_height": null,
       "min_width": null,
       "object_fit": null,
       "object_position": null,
       "order": null,
       "overflow": null,
       "overflow_x": null,
       "overflow_y": null,
       "padding": null,
       "right": null,
       "top": null,
       "visibility": null,
       "width": null
      }
     },
     "c64c2f27f11445c7971cf6611af5dc9b": {
      "model_module": "@jupyter-widgets/controls",
      "model_module_version": "1.5.0",
      "model_name": "FloatProgressModel",
      "state": {
       "_dom_classes": [],
       "_model_module": "@jupyter-widgets/controls",
       "_model_module_version": "1.5.0",
       "_model_name": "FloatProgressModel",
       "_view_count": null,
       "_view_module": "@jupyter-widgets/controls",
       "_view_module_version": "1.5.0",
       "_view_name": "ProgressView",
       "bar_style": "success",
       "description": "100%",
       "description_tooltip": null,
       "layout": "IPY_MODEL_c2d3b706e9d343e08a19847ec40e5635",
       "max": 50419.0,
       "min": 0.0,
       "orientation": "horizontal",
       "style": "IPY_MODEL_53b3296aafa9421d9dd8a30046b55cd8",
       "value": 50419.0
      }
     }
    },
    "version_major": 2,
    "version_minor": 0
   }
  }
 },
 "nbformat": 4,
 "nbformat_minor": 4
}
